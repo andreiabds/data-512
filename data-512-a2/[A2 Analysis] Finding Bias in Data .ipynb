{
 "cells": [
  {
   "cell_type": "markdown",
   "metadata": {},
   "source": [
    "# BIAS IN DATA: Analysis of toxicity in the Wikipedia Talk corpus"
   ]
  },
  {
   "cell_type": "markdown",
   "metadata": {},
   "source": [
    "People can leave comments on Wikipedia pages. Sometimes, these comments might be toxic. \n",
    "\n",
    "Wikipedia Talk corpus have a dataset with a sample of comments that have been annotated by humans with a toxicity score ranging from -2 (very toxic) to 2 (very healthy).\n",
    "\n",
    "In this analysis, we attempt to identify potential sources of bias in a corpus of human-annotated data, and describe some implications of those biases.\n",
    "\n",
    "- Overview of the research project that : https://meta.wikimedia.org/wiki/Research:Detox \n",
    "- Dataset description and schemas: https://meta.wikimedia.org/wiki/Research:Detox/Data_Release \n"
   ]
  },
  {
   "cell_type": "markdown",
   "metadata": {},
   "source": [
    "## Step 1: Download the Toxicity dataset"
   ]
  },
  {
   "cell_type": "code",
   "execution_count": 488,
   "metadata": {},
   "outputs": [],
   "source": [
    "import urllib"
   ]
  },
  {
   "cell_type": "code",
   "execution_count": 489,
   "metadata": {},
   "outputs": [],
   "source": [
    "# download annotated comments and annotations\n",
    "# original code: https://github.com/ewulczyn/wiki-detox/blob/master/src/figshare/Wikipedia%20Talk%20Data%20-%20Getting%20Started.ipynb\n",
    "\n",
    "ANNOTATIONS_URL = 'https://ndownloader.figshare.com/files/7394539' #toxicity_annotations.tsv\n",
    "ANNOTATED_COMMENTS_URL = 'https://ndownloader.figshare.com/files/7394542' # -O toxicity_annotated_comments.tsv\n",
    "WORKER_DEMOGRAPHICS_URL = 'https://ndownloader.figshare.com/files/7640581' # -O toxicity_worker_demographics.tsv\n",
    "\n",
    "\n",
    "def download_file(url, fname):\n",
    "    urllib.request.urlretrieve(url, fname)\n",
    "\n",
    "                \n",
    "download_file(ANNOTATED_COMMENTS_URL, 'toxicity_annotated_comments.tsv')\n",
    "download_file(ANNOTATIONS_URL, 'toxicity_annotations.tsv')\n",
    "download_file(WORKER_DEMOGRAPHICS_URL, 'toxicity_worker_demographics.tsv')"
   ]
  },
  {
   "cell_type": "markdown",
   "metadata": {},
   "source": [
    "## Step 2: Load tables using pandas"
   ]
  },
  {
   "cell_type": "code",
   "execution_count": 490,
   "metadata": {},
   "outputs": [],
   "source": [
    "import pandas as pd\n",
    "import seaborn as sns\n",
    "import matplotlib.pyplot as plt"
   ]
  },
  {
   "cell_type": "code",
   "execution_count": 491,
   "metadata": {},
   "outputs": [],
   "source": [
    "# Loading tables into pandas dataframe\n",
    "toxicity_annotations = pd.read_csv(\"toxicity_annotations.tsv\", delimiter=\"\\t\")\n",
    "toxicity_annotated_comments = pd.read_csv(\"toxicity_annotated_comments.tsv\", delimiter=\"\\t\")\n",
    "toxicity_worker_demographics = pd.read_csv(\"toxicity_worker_demographics.tsv\", delimiter=\"\\t\")"
   ]
  },
  {
   "cell_type": "markdown",
   "metadata": {},
   "source": [
    "Inspect tables"
   ]
  },
  {
   "cell_type": "code",
   "execution_count": 492,
   "metadata": {},
   "outputs": [
    {
     "data": {
      "text/html": [
       "<div>\n",
       "<style scoped>\n",
       "    .dataframe tbody tr th:only-of-type {\n",
       "        vertical-align: middle;\n",
       "    }\n",
       "\n",
       "    .dataframe tbody tr th {\n",
       "        vertical-align: top;\n",
       "    }\n",
       "\n",
       "    .dataframe thead th {\n",
       "        text-align: right;\n",
       "    }\n",
       "</style>\n",
       "<table border=\"1\" class=\"dataframe\">\n",
       "  <thead>\n",
       "    <tr style=\"text-align: right;\">\n",
       "      <th></th>\n",
       "      <th>rev_id</th>\n",
       "      <th>worker_id</th>\n",
       "      <th>toxicity</th>\n",
       "      <th>toxicity_score</th>\n",
       "    </tr>\n",
       "  </thead>\n",
       "  <tbody>\n",
       "    <tr>\n",
       "      <th>0</th>\n",
       "      <td>2232.0</td>\n",
       "      <td>723</td>\n",
       "      <td>0</td>\n",
       "      <td>0.0</td>\n",
       "    </tr>\n",
       "    <tr>\n",
       "      <th>1</th>\n",
       "      <td>2232.0</td>\n",
       "      <td>4000</td>\n",
       "      <td>0</td>\n",
       "      <td>0.0</td>\n",
       "    </tr>\n",
       "    <tr>\n",
       "      <th>2</th>\n",
       "      <td>2232.0</td>\n",
       "      <td>3989</td>\n",
       "      <td>0</td>\n",
       "      <td>1.0</td>\n",
       "    </tr>\n",
       "    <tr>\n",
       "      <th>3</th>\n",
       "      <td>2232.0</td>\n",
       "      <td>3341</td>\n",
       "      <td>0</td>\n",
       "      <td>0.0</td>\n",
       "    </tr>\n",
       "    <tr>\n",
       "      <th>4</th>\n",
       "      <td>2232.0</td>\n",
       "      <td>1574</td>\n",
       "      <td>0</td>\n",
       "      <td>1.0</td>\n",
       "    </tr>\n",
       "  </tbody>\n",
       "</table>\n",
       "</div>"
      ],
      "text/plain": [
       "   rev_id  worker_id  toxicity  toxicity_score\n",
       "0  2232.0        723         0             0.0\n",
       "1  2232.0       4000         0             0.0\n",
       "2  2232.0       3989         0             1.0\n",
       "3  2232.0       3341         0             0.0\n",
       "4  2232.0       1574         0             1.0"
      ]
     },
     "execution_count": 492,
     "metadata": {},
     "output_type": "execute_result"
    }
   ],
   "source": [
    "toxicity_annotations.head()"
   ]
  },
  {
   "cell_type": "code",
   "execution_count": 493,
   "metadata": {},
   "outputs": [
    {
     "data": {
      "text/html": [
       "<div>\n",
       "<style scoped>\n",
       "    .dataframe tbody tr th:only-of-type {\n",
       "        vertical-align: middle;\n",
       "    }\n",
       "\n",
       "    .dataframe tbody tr th {\n",
       "        vertical-align: top;\n",
       "    }\n",
       "\n",
       "    .dataframe thead th {\n",
       "        text-align: right;\n",
       "    }\n",
       "</style>\n",
       "<table border=\"1\" class=\"dataframe\">\n",
       "  <thead>\n",
       "    <tr style=\"text-align: right;\">\n",
       "      <th></th>\n",
       "      <th>rev_id</th>\n",
       "      <th>comment</th>\n",
       "      <th>year</th>\n",
       "      <th>logged_in</th>\n",
       "      <th>ns</th>\n",
       "      <th>sample</th>\n",
       "      <th>split</th>\n",
       "    </tr>\n",
       "  </thead>\n",
       "  <tbody>\n",
       "    <tr>\n",
       "      <th>0</th>\n",
       "      <td>2232.0</td>\n",
       "      <td>This:NEWLINE_TOKEN:One can make an analogy in ...</td>\n",
       "      <td>2002</td>\n",
       "      <td>True</td>\n",
       "      <td>article</td>\n",
       "      <td>random</td>\n",
       "      <td>train</td>\n",
       "    </tr>\n",
       "    <tr>\n",
       "      <th>1</th>\n",
       "      <td>4216.0</td>\n",
       "      <td>`NEWLINE_TOKENNEWLINE_TOKEN:Clarification for ...</td>\n",
       "      <td>2002</td>\n",
       "      <td>True</td>\n",
       "      <td>user</td>\n",
       "      <td>random</td>\n",
       "      <td>train</td>\n",
       "    </tr>\n",
       "    <tr>\n",
       "      <th>2</th>\n",
       "      <td>8953.0</td>\n",
       "      <td>Elected or Electoral? JHK</td>\n",
       "      <td>2002</td>\n",
       "      <td>False</td>\n",
       "      <td>article</td>\n",
       "      <td>random</td>\n",
       "      <td>test</td>\n",
       "    </tr>\n",
       "    <tr>\n",
       "      <th>3</th>\n",
       "      <td>26547.0</td>\n",
       "      <td>`This is such a fun entry.   DevotchkaNEWLINE_...</td>\n",
       "      <td>2002</td>\n",
       "      <td>True</td>\n",
       "      <td>article</td>\n",
       "      <td>random</td>\n",
       "      <td>train</td>\n",
       "    </tr>\n",
       "    <tr>\n",
       "      <th>4</th>\n",
       "      <td>28959.0</td>\n",
       "      <td>Please relate the ozone hole to increases in c...</td>\n",
       "      <td>2002</td>\n",
       "      <td>True</td>\n",
       "      <td>article</td>\n",
       "      <td>random</td>\n",
       "      <td>test</td>\n",
       "    </tr>\n",
       "  </tbody>\n",
       "</table>\n",
       "</div>"
      ],
      "text/plain": [
       "    rev_id                                            comment  year  \\\n",
       "0   2232.0  This:NEWLINE_TOKEN:One can make an analogy in ...  2002   \n",
       "1   4216.0  `NEWLINE_TOKENNEWLINE_TOKEN:Clarification for ...  2002   \n",
       "2   8953.0                          Elected or Electoral? JHK  2002   \n",
       "3  26547.0  `This is such a fun entry.   DevotchkaNEWLINE_...  2002   \n",
       "4  28959.0  Please relate the ozone hole to increases in c...  2002   \n",
       "\n",
       "   logged_in       ns  sample  split  \n",
       "0       True  article  random  train  \n",
       "1       True     user  random  train  \n",
       "2      False  article  random   test  \n",
       "3       True  article  random  train  \n",
       "4       True  article  random   test  "
      ]
     },
     "execution_count": 493,
     "metadata": {},
     "output_type": "execute_result"
    }
   ],
   "source": [
    "toxicity_annotated_comments.head()"
   ]
  },
  {
   "cell_type": "code",
   "execution_count": 494,
   "metadata": {},
   "outputs": [
    {
     "data": {
      "text/html": [
       "<div>\n",
       "<style scoped>\n",
       "    .dataframe tbody tr th:only-of-type {\n",
       "        vertical-align: middle;\n",
       "    }\n",
       "\n",
       "    .dataframe tbody tr th {\n",
       "        vertical-align: top;\n",
       "    }\n",
       "\n",
       "    .dataframe thead th {\n",
       "        text-align: right;\n",
       "    }\n",
       "</style>\n",
       "<table border=\"1\" class=\"dataframe\">\n",
       "  <thead>\n",
       "    <tr style=\"text-align: right;\">\n",
       "      <th></th>\n",
       "      <th>worker_id</th>\n",
       "      <th>gender</th>\n",
       "      <th>english_first_language</th>\n",
       "      <th>age_group</th>\n",
       "      <th>education</th>\n",
       "    </tr>\n",
       "  </thead>\n",
       "  <tbody>\n",
       "    <tr>\n",
       "      <th>0</th>\n",
       "      <td>85</td>\n",
       "      <td>female</td>\n",
       "      <td>0</td>\n",
       "      <td>18-30</td>\n",
       "      <td>bachelors</td>\n",
       "    </tr>\n",
       "    <tr>\n",
       "      <th>1</th>\n",
       "      <td>1617</td>\n",
       "      <td>female</td>\n",
       "      <td>0</td>\n",
       "      <td>45-60</td>\n",
       "      <td>bachelors</td>\n",
       "    </tr>\n",
       "    <tr>\n",
       "      <th>2</th>\n",
       "      <td>1394</td>\n",
       "      <td>female</td>\n",
       "      <td>0</td>\n",
       "      <td>NaN</td>\n",
       "      <td>bachelors</td>\n",
       "    </tr>\n",
       "    <tr>\n",
       "      <th>3</th>\n",
       "      <td>311</td>\n",
       "      <td>male</td>\n",
       "      <td>0</td>\n",
       "      <td>30-45</td>\n",
       "      <td>bachelors</td>\n",
       "    </tr>\n",
       "    <tr>\n",
       "      <th>4</th>\n",
       "      <td>1980</td>\n",
       "      <td>male</td>\n",
       "      <td>0</td>\n",
       "      <td>45-60</td>\n",
       "      <td>masters</td>\n",
       "    </tr>\n",
       "  </tbody>\n",
       "</table>\n",
       "</div>"
      ],
      "text/plain": [
       "   worker_id  gender  english_first_language age_group  education\n",
       "0         85  female                       0     18-30  bachelors\n",
       "1       1617  female                       0     45-60  bachelors\n",
       "2       1394  female                       0       NaN  bachelors\n",
       "3        311    male                       0     30-45  bachelors\n",
       "4       1980    male                       0     45-60    masters"
      ]
     },
     "execution_count": 494,
     "metadata": {},
     "output_type": "execute_result"
    }
   ],
   "source": [
    "toxicity_worker_demographics.head()"
   ]
  },
  {
   "cell_type": "markdown",
   "metadata": {},
   "source": [
    "## EDA"
   ]
  },
  {
   "cell_type": "markdown",
   "metadata": {},
   "source": [
    "The annotators scored the comments based on the following scale:\n",
    "(2) very healthy, (1) healthy, (0) neutral, (-1) toxic, (-2) very toxic.\n",
    "\n",
    "Most scores given by the annotators were non-toxic. The most common score was zero, which means neutral. \n",
    "\n"
   ]
  },
  {
   "cell_type": "code",
   "execution_count": 496,
   "metadata": {},
   "outputs": [
    {
     "data": {
      "image/png": "[encoded data removed]",
      "text/plain": [
       "<Figure size 432x288 with 1 Axes>"
      ]
     },
     "metadata": {
      "needs_background": "light"
     },
     "output_type": "display_data"
    }
   ],
   "source": [
    "#plot\n",
    "plt.hist(toxicity_annotations['toxicity_score'])\n",
    "plt.grid()\n",
    "\n",
    "#save figure\n",
    "plt.gcf() # get current figure - helps with savefig\n",
    "plt.savefig('hist_toxicity_score.jpg')"
   ]
  },
  {
   "cell_type": "markdown",
   "metadata": {},
   "source": [
    "If a toxicity score is below zero (-1 or -2), then a comment is labeled as toxic (1).\n",
    "\n",
    "If a toxicity score is non-negative (0, 1, or 2), then a comment is labeled as non-toxic (0)."
   ]
  },
  {
   "cell_type": "code",
   "execution_count": 497,
   "metadata": {},
   "outputs": [
    {
     "data": {
      "image/png": "[encoded data removed]",
      "text/plain": [
       "<Figure size 432x288 with 1 Axes>"
      ]
     },
     "metadata": {
      "needs_background": "light"
     },
     "output_type": "display_data"
    }
   ],
   "source": [
    "#plot\n",
    "plt.hist(toxicity_annotations['toxicity'])\n",
    "plt.grid()\n",
    "\n",
    "#save figure\n",
    "plt.gcf() # get current figure - helps with savefig\n",
    "plt.savefig('hist_toxicity.jpg')"
   ]
  },
  {
   "cell_type": "markdown",
   "metadata": {},
   "source": [
    "We would assume that some questions were given different scores by different annotators (disagreement between annotators). \n",
    "\n",
    "We take the standard deviation of the toxicity score to look at the disagreement. The graph below shows that most question had at least one annotator that had a different score than the others."
   ]
  },
  {
   "cell_type": "code",
   "execution_count": 498,
   "metadata": {},
   "outputs": [
    {
     "data": {
      "image/png": "[encoded data removed]",
      "text/plain": [
       "<Figure size 432x288 with 1 Axes>"
      ]
     },
     "metadata": {
      "needs_background": "light"
     },
     "output_type": "display_data"
    }
   ],
   "source": [
    "disagreement = toxicity_annotations[['rev_id','toxicity_score' ]].groupby('rev_id').std().sort_values(by='toxicity_score')\n",
    "\n",
    "\n",
    "#plot\n",
    "plt.hist(disagreement['toxicity_score'])\n",
    "plt.grid()\n",
    "\n",
    "#save figure\n",
    "plt.gcf() # get current figure - helps with savefig\n",
    "plt.savefig('hist_toxicityscore_disagreement.jpg')"
   ]
  },
  {
   "cell_type": "markdown",
   "metadata": {},
   "source": [
    "# Step 3: Scientific Questions"
   ]
  },
  {
   "cell_type": "code",
   "execution_count": 499,
   "metadata": {},
   "outputs": [],
   "source": [
    "import scipy"
   ]
  },
  {
   "cell_type": "code",
   "execution_count": 500,
   "metadata": {},
   "outputs": [
    {
     "data": {
      "text/html": [
       "<div>\n",
       "<style scoped>\n",
       "    .dataframe tbody tr th:only-of-type {\n",
       "        vertical-align: middle;\n",
       "    }\n",
       "\n",
       "    .dataframe tbody tr th {\n",
       "        vertical-align: top;\n",
       "    }\n",
       "\n",
       "    .dataframe thead th {\n",
       "        text-align: right;\n",
       "    }\n",
       "</style>\n",
       "<table border=\"1\" class=\"dataframe\">\n",
       "  <thead>\n",
       "    <tr style=\"text-align: right;\">\n",
       "      <th></th>\n",
       "      <th>rev_id</th>\n",
       "      <th>worker_id</th>\n",
       "      <th>toxicity</th>\n",
       "      <th>toxicity_score</th>\n",
       "      <th>worker_id_r</th>\n",
       "      <th>gender</th>\n",
       "      <th>english_first_language</th>\n",
       "      <th>age_group</th>\n",
       "      <th>education</th>\n",
       "      <th>toxicity_score_disagreement</th>\n",
       "    </tr>\n",
       "  </thead>\n",
       "  <tbody>\n",
       "    <tr>\n",
       "      <th>0</th>\n",
       "      <td>2232.0</td>\n",
       "      <td>405</td>\n",
       "      <td>0</td>\n",
       "      <td>1.0</td>\n",
       "      <td>405.0</td>\n",
       "      <td>male</td>\n",
       "      <td>0.0</td>\n",
       "      <td>30-45</td>\n",
       "      <td>masters</td>\n",
       "      <td>0.699206</td>\n",
       "    </tr>\n",
       "    <tr>\n",
       "      <th>1</th>\n",
       "      <td>2232.0</td>\n",
       "      <td>680</td>\n",
       "      <td>0</td>\n",
       "      <td>0.0</td>\n",
       "      <td>680.0</td>\n",
       "      <td>male</td>\n",
       "      <td>0.0</td>\n",
       "      <td>18-30</td>\n",
       "      <td>masters</td>\n",
       "      <td>0.699206</td>\n",
       "    </tr>\n",
       "    <tr>\n",
       "      <th>2</th>\n",
       "      <td>2232.0</td>\n",
       "      <td>723</td>\n",
       "      <td>0</td>\n",
       "      <td>0.0</td>\n",
       "      <td>723.0</td>\n",
       "      <td>female</td>\n",
       "      <td>0.0</td>\n",
       "      <td>30-45</td>\n",
       "      <td>bachelors</td>\n",
       "      <td>0.699206</td>\n",
       "    </tr>\n",
       "    <tr>\n",
       "      <th>3</th>\n",
       "      <td>2232.0</td>\n",
       "      <td>772</td>\n",
       "      <td>0</td>\n",
       "      <td>1.0</td>\n",
       "      <td>772.0</td>\n",
       "      <td>male</td>\n",
       "      <td>0.0</td>\n",
       "      <td>18-30</td>\n",
       "      <td>bachelors</td>\n",
       "      <td>0.699206</td>\n",
       "    </tr>\n",
       "    <tr>\n",
       "      <th>4</th>\n",
       "      <td>2232.0</td>\n",
       "      <td>1508</td>\n",
       "      <td>0</td>\n",
       "      <td>1.0</td>\n",
       "      <td>1508.0</td>\n",
       "      <td>female</td>\n",
       "      <td>1.0</td>\n",
       "      <td>45-60</td>\n",
       "      <td>hs</td>\n",
       "      <td>0.699206</td>\n",
       "    </tr>\n",
       "  </tbody>\n",
       "</table>\n",
       "</div>"
      ],
      "text/plain": [
       "   rev_id  worker_id  toxicity  toxicity_score  worker_id_r  gender  \\\n",
       "0  2232.0        405         0             1.0        405.0    male   \n",
       "1  2232.0        680         0             0.0        680.0    male   \n",
       "2  2232.0        723         0             0.0        723.0  female   \n",
       "3  2232.0        772         0             1.0        772.0    male   \n",
       "4  2232.0       1508         0             1.0       1508.0  female   \n",
       "\n",
       "   english_first_language age_group  education  toxicity_score_disagreement  \n",
       "0                     0.0     30-45    masters                     0.699206  \n",
       "1                     0.0     18-30    masters                     0.699206  \n",
       "2                     0.0     30-45  bachelors                     0.699206  \n",
       "3                     0.0     18-30  bachelors                     0.699206  \n",
       "4                     1.0     45-60         hs                     0.699206  "
      ]
     },
     "execution_count": 500,
     "metadata": {},
     "output_type": "execute_result"
    }
   ],
   "source": [
    "# joining datasets\n",
    "joined_annotations = toxicity_annotations.set_index('worker_id', drop=False).join( toxicity_worker_demographics.set_index('worker_id', drop=False), rsuffix=\"_r\")\n",
    "joined_disagreement = joined_annotations.set_index('rev_id', drop=False).join( disagreement, rsuffix=\"_disagreement\").reset_index(drop=True)\n",
    "joined_disagreement.head()"
   ]
  },
  {
   "cell_type": "markdown",
   "metadata": {},
   "source": [
    "## Do native English speakers annotators label comments more harshly (more toxic) than non-native spearkers? \n",
    "\n",
    "English is a difficult language and people can have different levels of fluency. A non-native English speaker may have quite good comprehension of English, but there might be some nuances in the language that are probably not as trivial to a non-native speakers as it is to native speakers (e.g., identifying toxicity in speech). \n",
    "\n",
    "The analysis below tries to identify:\n",
    "- Is there a balance in the population of native and non-native speakers in Wikipedia Corpus?\n",
    "- Is there a difference in scores given by these two populations?"
   ]
  },
  {
   "cell_type": "markdown",
   "metadata": {},
   "source": [
    "We separate the population between native and non-native. The non-native population is more than 4 times larger than the native population. \n",
    "\n",
    "<b>The population of native and non-native speakers is clearly not balanced. Non-native speakers are overrepresented. </b>"
   ]
  },
  {
   "cell_type": "code",
   "execution_count": 501,
   "metadata": {},
   "outputs": [
    {
     "name": "stdout",
     "output_type": "stream",
     "text": [
      "native speakers: 666\n",
      "non-native speakers: 2925\n"
     ]
    },
    {
     "data": {
      "image/png": "[encoded data removed]",
      "text/plain": [
       "<Figure size 432x288 with 1 Axes>"
      ]
     },
     "metadata": {
      "needs_background": "light"
     },
     "output_type": "display_data"
    }
   ],
   "source": [
    "# separating population of native and non-native speakers\n",
    "native = joined_disagreement[joined_disagreement['english_first_language'] == 1]\n",
    "non_native = joined_disagreement[joined_disagreement['english_first_language'] == 0]\n",
    "\n",
    "size_natives = len(native['worker_id'].unique())\n",
    "size_non_natives = len(non_native['worker_id'].unique())\n",
    "\n",
    "print(\"native speakers: \" + str(size_natives) )\n",
    "print(\"non-native speakers: \" + str(size_non_natives) )\n",
    "#joined_disagreement.groupby('english_first_language')['worker_id'].nunique().plot(kind='bar')\n",
    "\n",
    "language_dist = joined_disagreement.groupby('english_first_language')['worker_id'].nunique()\n",
    "# plotting gender distribution\n",
    "#gender_dist = gender.groupby('gender')['worker_id'].nunique()\n",
    "plt.bar(language_dist.index, language_dist.values)\n",
    "\n",
    "#save figure\n",
    "plt.gcf() # get current figure - helps with savefig\n",
    "plt.savefig('language_distribution.jpg')"
   ]
  },
  {
   "cell_type": "markdown",
   "metadata": {},
   "source": [
    "We look at the mean toxicity score and the mean toxicity of each group. And we find that the means are slightly different. Native speakers have a toxicity mean (percentage of questions that got a toxic or very toxic label) is 15.2% vs 14.4% non-native speakers."
   ]
  },
  {
   "cell_type": "code",
   "execution_count": 502,
   "metadata": {},
   "outputs": [
    {
     "data": {
      "text/html": [
       "<div>\n",
       "<style scoped>\n",
       "    .dataframe tbody tr th:only-of-type {\n",
       "        vertical-align: middle;\n",
       "    }\n",
       "\n",
       "    .dataframe tbody tr th {\n",
       "        vertical-align: top;\n",
       "    }\n",
       "\n",
       "    .dataframe thead tr th {\n",
       "        text-align: left;\n",
       "    }\n",
       "\n",
       "    .dataframe thead tr:last-of-type th {\n",
       "        text-align: right;\n",
       "    }\n",
       "</style>\n",
       "<table border=\"1\" class=\"dataframe\">\n",
       "  <thead>\n",
       "    <tr>\n",
       "      <th></th>\n",
       "      <th colspan=\"2\" halign=\"left\">toxicity</th>\n",
       "    </tr>\n",
       "    <tr>\n",
       "      <th></th>\n",
       "      <th>mean</th>\n",
       "      <th>count</th>\n",
       "    </tr>\n",
       "    <tr>\n",
       "      <th>english_first_language</th>\n",
       "      <th></th>\n",
       "      <th></th>\n",
       "    </tr>\n",
       "  </thead>\n",
       "  <tbody>\n",
       "    <tr>\n",
       "      <th>0.0</th>\n",
       "      <td>0.144376</td>\n",
       "      <td>1113162</td>\n",
       "    </tr>\n",
       "    <tr>\n",
       "      <th>1.0</th>\n",
       "      <td>0.152207</td>\n",
       "      <td>233793</td>\n",
       "    </tr>\n",
       "  </tbody>\n",
       "</table>\n",
       "</div>"
      ],
      "text/plain": [
       "                        toxicity         \n",
       "                            mean    count\n",
       "english_first_language                   \n",
       "0.0                     0.144376  1113162\n",
       "1.0                     0.152207   233793"
      ]
     },
     "execution_count": 502,
     "metadata": {},
     "output_type": "execute_result"
    }
   ],
   "source": [
    "joined_disagreement[['english_first_language', 'toxicity']].groupby('english_first_language').agg(['mean', 'count'])"
   ]
  },
  {
   "cell_type": "markdown",
   "metadata": {},
   "source": [
    "However, is this small difference significant enough for us to say that there is a difference between those groups? \n",
    "\n",
    "To answer that, we visualize the distribution of those groups and we do a statistical test."
   ]
  },
  {
   "cell_type": "code",
   "execution_count": 503,
   "metadata": {},
   "outputs": [],
   "source": [
    "# getting the mean of toxic comments score\n",
    "native_mean = native.groupby('worker_id').mean()[['toxicity', 'toxicity_score', 'english_first_language']]\n",
    "non_native_mean = non_native.groupby('worker_id').mean()[['toxicity', 'toxicity_score', 'english_first_language']]"
   ]
  },
  {
   "cell_type": "markdown",
   "metadata": {},
   "source": [
    "Below there are plots of percentage scores of users. Those percentage scores represent the percentage of comments labeled as toxic by the annotators (i.e., 1 means 100% of comments annotated by the annotator were labeled as toxic.)\n",
    "\n",
    "We compare the distribution of those percentage scores for native and non-native speakers. \n",
    "\n",
    "The distributions seem to have a similar shape (almost Gaussian distribution), however, native speakers seem to have a longer right-tail leaning more towards toxic labels.  "
   ]
  },
  {
   "cell_type": "code",
   "execution_count": 504,
   "metadata": {},
   "outputs": [
    {
     "data": {
      "image/png": "[encoded data removed]",
      "text/plain": [
       "<Figure size 432x288 with 1 Axes>"
      ]
     },
     "metadata": {
      "needs_background": "light"
     },
     "output_type": "display_data"
    }
   ],
   "source": [
    "#plot\n",
    "plt.hist(native_mean['toxicity'])\n",
    "plt.grid()\n",
    "\n",
    "#save figure\n",
    "plt.gcf() # get current figure - helps with savefig\n",
    "plt.savefig('hist_percentage_toxicity_native.jpg')"
   ]
  },
  {
   "cell_type": "code",
   "execution_count": 505,
   "metadata": {},
   "outputs": [
    {
     "data": {
      "image/png": "[encoded data removed]",
      "text/plain": [
       "<Figure size 432x288 with 1 Axes>"
      ]
     },
     "metadata": {
      "needs_background": "light"
     },
     "output_type": "display_data"
    }
   ],
   "source": [
    "#plot\n",
    "plt.hist(non_native_mean['toxicity'])\n",
    "plt.grid()\n",
    "\n",
    "#save figure\n",
    "plt.gcf() # get current figure - helps with savefig\n",
    "plt.savefig('hist_percentage_toxicity_nonnative.jpg')"
   ]
  },
  {
   "cell_type": "markdown",
   "metadata": {},
   "source": [
    "We are going do the Manwhitney test to identify if there is a difference in the native and non-native population. This is a Statistical test that is appropriate to compare populations of different sizes. \n",
    "https://en.wikipedia.org/wiki/Mann%E2%80%93Whitney_U_test\n",
    "\n",
    "Basically, we are trying to compare if native speakers label a comment as toxic just as much as non-native speakers, or if there is a statistically significant difference.\n",
    "\n",
    "We know that native speakers have a toxicity mean of 15.2% while non-native speakers have a 14.4% toxicity mean. Thefore, our hypothesis is that <b>native speakers give more toxic labels to comments than non-native speakers</b>. \n",
    "\n",
    "\n",
    "####  H0: Native speakers give fewer (or as many) toxic labels than Non-Native speakers\n",
    "- Native speakers <= Non-Native speakers\n",
    "\n",
    "####  H1: Native speakers give a greater amount of toxic labels than Non-Native speakers\n",
    "- Native speakers > Non-Native speakers\n",
    "\n"
   ]
  },
  {
   "cell_type": "code",
   "execution_count": 506,
   "metadata": {},
   "outputs": [
    {
     "data": {
      "text/plain": [
       "MannwhitneyuResult(statistic=1021279.0, pvalue=0.025182791870197403)"
      ]
     },
     "execution_count": 506,
     "metadata": {},
     "output_type": "execute_result"
    }
   ],
   "source": [
    "scipy.stats.mannwhitneyu(native_mean['toxicity'], non_native_mean['toxicity'] , use_continuity=True, alternative='greater')"
   ]
  },
  {
   "cell_type": "markdown",
   "metadata": {},
   "source": [
    "After performing the test, we get a p-value smaller than 0.05, which means that we may <b>reject the null hypothesis</b> (i.e., we reject the hypothesis that native speakers label comments with the same or smaller toxicity score as non-native speakers). This seems to indicate that native speakers have scores that are statistically significantly greater than the scores given by non-native speakers in the toxicity scale. \n",
    "\n",
    "<b>Therefore, we conclude that native speakers are harsher than non-native speakers when annotating comments. </b>"
   ]
  },
  {
   "cell_type": "markdown",
   "metadata": {},
   "source": [
    "## Does the annotator's gender affect the toxicity score? \n",
    "\n",
    "A person's gender influences how they experience the world. This may be factor that affects how an annotator scores a comment as toxic or non-toxic.\n",
    "\n",
    "In this analysis, we try to answer the following questions:\n",
    "- Are the genders of annotators in the Wikipedia Corpus balanced?\n",
    "- Do different genders score comments differently? "
   ]
  },
  {
   "cell_type": "code",
   "execution_count": 507,
   "metadata": {},
   "outputs": [
    {
     "data": {
      "text/html": [
       "<div>\n",
       "<style scoped>\n",
       "    .dataframe tbody tr th:only-of-type {\n",
       "        vertical-align: middle;\n",
       "    }\n",
       "\n",
       "    .dataframe tbody tr th {\n",
       "        vertical-align: top;\n",
       "    }\n",
       "\n",
       "    .dataframe thead th {\n",
       "        text-align: right;\n",
       "    }\n",
       "</style>\n",
       "<table border=\"1\" class=\"dataframe\">\n",
       "  <thead>\n",
       "    <tr style=\"text-align: right;\">\n",
       "      <th></th>\n",
       "      <th>rev_id</th>\n",
       "      <th>worker_id</th>\n",
       "      <th>toxicity</th>\n",
       "      <th>toxicity_score</th>\n",
       "      <th>worker_id_r</th>\n",
       "      <th>gender</th>\n",
       "      <th>english_first_language</th>\n",
       "      <th>age_group</th>\n",
       "      <th>education</th>\n",
       "      <th>toxicity_score_disagreement</th>\n",
       "    </tr>\n",
       "  </thead>\n",
       "  <tbody>\n",
       "    <tr>\n",
       "      <th>0</th>\n",
       "      <td>2232.0</td>\n",
       "      <td>405</td>\n",
       "      <td>0</td>\n",
       "      <td>1.0</td>\n",
       "      <td>405.0</td>\n",
       "      <td>male</td>\n",
       "      <td>0.0</td>\n",
       "      <td>30-45</td>\n",
       "      <td>masters</td>\n",
       "      <td>0.699206</td>\n",
       "    </tr>\n",
       "    <tr>\n",
       "      <th>1</th>\n",
       "      <td>2232.0</td>\n",
       "      <td>680</td>\n",
       "      <td>0</td>\n",
       "      <td>0.0</td>\n",
       "      <td>680.0</td>\n",
       "      <td>male</td>\n",
       "      <td>0.0</td>\n",
       "      <td>18-30</td>\n",
       "      <td>masters</td>\n",
       "      <td>0.699206</td>\n",
       "    </tr>\n",
       "    <tr>\n",
       "      <th>2</th>\n",
       "      <td>2232.0</td>\n",
       "      <td>723</td>\n",
       "      <td>0</td>\n",
       "      <td>0.0</td>\n",
       "      <td>723.0</td>\n",
       "      <td>female</td>\n",
       "      <td>0.0</td>\n",
       "      <td>30-45</td>\n",
       "      <td>bachelors</td>\n",
       "      <td>0.699206</td>\n",
       "    </tr>\n",
       "    <tr>\n",
       "      <th>3</th>\n",
       "      <td>2232.0</td>\n",
       "      <td>772</td>\n",
       "      <td>0</td>\n",
       "      <td>1.0</td>\n",
       "      <td>772.0</td>\n",
       "      <td>male</td>\n",
       "      <td>0.0</td>\n",
       "      <td>18-30</td>\n",
       "      <td>bachelors</td>\n",
       "      <td>0.699206</td>\n",
       "    </tr>\n",
       "    <tr>\n",
       "      <th>4</th>\n",
       "      <td>2232.0</td>\n",
       "      <td>1508</td>\n",
       "      <td>0</td>\n",
       "      <td>1.0</td>\n",
       "      <td>1508.0</td>\n",
       "      <td>female</td>\n",
       "      <td>1.0</td>\n",
       "      <td>45-60</td>\n",
       "      <td>hs</td>\n",
       "      <td>0.699206</td>\n",
       "    </tr>\n",
       "  </tbody>\n",
       "</table>\n",
       "</div>"
      ],
      "text/plain": [
       "   rev_id  worker_id  toxicity  toxicity_score  worker_id_r  gender  \\\n",
       "0  2232.0        405         0             1.0        405.0    male   \n",
       "1  2232.0        680         0             0.0        680.0    male   \n",
       "2  2232.0        723         0             0.0        723.0  female   \n",
       "3  2232.0        772         0             1.0        772.0    male   \n",
       "4  2232.0       1508         0             1.0       1508.0  female   \n",
       "\n",
       "   english_first_language age_group  education  toxicity_score_disagreement  \n",
       "0                     0.0     30-45    masters                     0.699206  \n",
       "1                     0.0     18-30    masters                     0.699206  \n",
       "2                     0.0     30-45  bachelors                     0.699206  \n",
       "3                     0.0     18-30  bachelors                     0.699206  \n",
       "4                     1.0     45-60         hs                     0.699206  "
      ]
     },
     "execution_count": 507,
     "metadata": {},
     "output_type": "execute_result"
    }
   ],
   "source": [
    "# filling missing gender information with \"not disclosed\"\n",
    "gender = joined_disagreement.fillna({'gender': 'not disclosed'})\n",
    "gender.head()"
   ]
  },
  {
   "cell_type": "markdown",
   "metadata": {},
   "source": [
    "Our data contains 4 different classifications for gender: male, female, other, and not disclosed (for missing data). \n",
    "\n",
    "Looking at the distribution of the data, we notice that <b>the genders are not balanced</b>. Males represent more than 54% of the population of annotators; 29.3% of the annotators are female (the second largest group); 16.5% did not disclose their gender; an less than 0.1% are non-binary (other). "
   ]
  },
  {
   "cell_type": "code",
   "execution_count": 508,
   "metadata": {},
   "outputs": [
    {
     "data": {
      "text/plain": [
       "gender\n",
       "female           0.293653\n",
       "male             0.541037\n",
       "not disclosed    0.165078\n",
       "other            0.000233\n",
       "Name: worker_id, dtype: float64"
      ]
     },
     "execution_count": 508,
     "metadata": {},
     "output_type": "execute_result"
    },
    {
     "data": {
      "image/png": "[encoded data removed]",
      "text/plain": [
       "<Figure size 432x288 with 1 Axes>"
      ]
     },
     "metadata": {
      "needs_background": "light"
     },
     "output_type": "display_data"
    }
   ],
   "source": [
    "# plotting gender distribution\n",
    "gender_dist = gender.groupby('gender')['worker_id'].nunique()\n",
    "gender_plot = plt.bar(gender_dist.index, gender_dist.values)\n",
    "\n",
    "#save figure\n",
    "plt.gcf() # get current figure - helps with savefig\n",
    "plt.savefig('gender_distribution.jpg')\n",
    "\n",
    "# calculation percentage of each gender\n",
    "dist = gender.groupby('gender')['worker_id'].nunique()\n",
    "dist/dist.sum()\n",
    "\n"
   ]
  },
  {
   "cell_type": "markdown",
   "metadata": {},
   "source": [
    "Next, we want to check if there are differences in the scores given by different genders. Thus, we calculate the mean percentage toxicity* per gender. \n",
    "\n",
    "The means seem different between the different groups of genders. \n",
    "\n",
    "*Percentage toxicity represents the percentage of comments that got a toxic score during annotation. "
   ]
  },
  {
   "cell_type": "code",
   "execution_count": 509,
   "metadata": {},
   "outputs": [
    {
     "data": {
      "text/html": [
       "<div>\n",
       "<style scoped>\n",
       "    .dataframe tbody tr th:only-of-type {\n",
       "        vertical-align: middle;\n",
       "    }\n",
       "\n",
       "    .dataframe tbody tr th {\n",
       "        vertical-align: top;\n",
       "    }\n",
       "\n",
       "    .dataframe thead tr th {\n",
       "        text-align: left;\n",
       "    }\n",
       "\n",
       "    .dataframe thead tr:last-of-type th {\n",
       "        text-align: right;\n",
       "    }\n",
       "</style>\n",
       "<table border=\"1\" class=\"dataframe\">\n",
       "  <thead>\n",
       "    <tr>\n",
       "      <th></th>\n",
       "      <th colspan=\"2\" halign=\"left\">toxicity</th>\n",
       "    </tr>\n",
       "    <tr>\n",
       "      <th></th>\n",
       "      <th>mean</th>\n",
       "      <th>count</th>\n",
       "    </tr>\n",
       "    <tr>\n",
       "      <th>gender</th>\n",
       "      <th></th>\n",
       "      <th></th>\n",
       "    </tr>\n",
       "  </thead>\n",
       "  <tbody>\n",
       "    <tr>\n",
       "      <th>female</th>\n",
       "      <td>0.157093</td>\n",
       "      <td>457346</td>\n",
       "    </tr>\n",
       "    <tr>\n",
       "      <th>male</th>\n",
       "      <td>0.139886</td>\n",
       "      <td>889251</td>\n",
       "    </tr>\n",
       "    <tr>\n",
       "      <th>not disclosed</th>\n",
       "      <td>0.142265</td>\n",
       "      <td>251334</td>\n",
       "    </tr>\n",
       "    <tr>\n",
       "      <th>other</th>\n",
       "      <td>0.164804</td>\n",
       "      <td>358</td>\n",
       "    </tr>\n",
       "  </tbody>\n",
       "</table>\n",
       "</div>"
      ],
      "text/plain": [
       "               toxicity        \n",
       "                   mean   count\n",
       "gender                         \n",
       "female         0.157093  457346\n",
       "male           0.139886  889251\n",
       "not disclosed  0.142265  251334\n",
       "other          0.164804     358"
      ]
     },
     "execution_count": 509,
     "metadata": {},
     "output_type": "execute_result"
    }
   ],
   "source": [
    "gender[['gender', 'toxicity']].groupby('gender').agg(['mean', 'count'])"
   ]
  },
  {
   "cell_type": "markdown",
   "metadata": {},
   "source": [
    "Because female and male are our largest populations, we will focus the remainder of the analysis on those two gender classifications. We want to find out if the difference in annotation between this two genders is significant. \n",
    "\n",
    "First, we look at the distribution for the toxicity scores given by males and females. The distributions look similar."
   ]
  },
  {
   "cell_type": "code",
   "execution_count": 510,
   "metadata": {},
   "outputs": [
    {
     "data": {
      "image/png": "[encoded data removed]",
      "text/plain": [
       "<Figure size 432x288 with 1 Axes>"
      ]
     },
     "metadata": {
      "needs_background": "light"
     },
     "output_type": "display_data"
    }
   ],
   "source": [
    "# separating population of gender\n",
    "male = joined_disagreement[joined_disagreement['gender'] == 'male']\n",
    "female = joined_disagreement[joined_disagreement['gender'] == 'female']\n",
    "\n",
    "\n",
    "male_hist = plt.hist(male['toxicity_score'])\n",
    "plt.grid()\n",
    "\n",
    "#save figure\n",
    "plt.gcf() # get current figure - helps with savefig\n",
    "plt.savefig('hist_toxicityscore_male.jpg')"
   ]
  },
  {
   "cell_type": "code",
   "execution_count": 511,
   "metadata": {},
   "outputs": [
    {
     "data": {
      "image/png": "[encoded data removed]",
      "text/plain": [
       "<Figure size 432x288 with 1 Axes>"
      ]
     },
     "metadata": {
      "needs_background": "light"
     },
     "output_type": "display_data"
    }
   ],
   "source": [
    "female_hist = plt.hist(female['toxicity_score'])\n",
    "plt.grid()\n",
    "\n",
    "#save figure\n",
    "plt.gcf() # get current figure - helps with savefig\n",
    "plt.savefig('hist_toxicityscore_female.jpg')"
   ]
  },
  {
   "cell_type": "markdown",
   "metadata": {},
   "source": [
    "Next, we plot the distribution of percentage toxicity (percentage of comments that were annotated with a toxic score).\n",
    "\n",
    "The distributions look different with females seeming to have more toxic annotations. "
   ]
  },
  {
   "cell_type": "code",
   "execution_count": 512,
   "metadata": {},
   "outputs": [],
   "source": [
    "# getting the mean of toxic comments score\n",
    "male_mean = male.groupby('worker_id').mean()[['toxicity']]\n",
    "female_mean = female.groupby('worker_id').mean()[['toxicity']]"
   ]
  },
  {
   "cell_type": "code",
   "execution_count": 513,
   "metadata": {},
   "outputs": [
    {
     "data": {
      "image/png": "[encoded data removed]",
      "text/plain": [
       "<Figure size 432x288 with 1 Axes>"
      ]
     },
     "metadata": {
      "needs_background": "light"
     },
     "output_type": "display_data"
    }
   ],
   "source": [
    "male_mean_hist = plt.hist(male_mean.values)\n",
    "plt.grid()\n",
    "\n",
    "#save figure\n",
    "plt.gcf() # get current figure - helps with savefig\n",
    "plt.savefig('hist_percentage_toxicity_male.jpg')"
   ]
  },
  {
   "cell_type": "code",
   "execution_count": 514,
   "metadata": {},
   "outputs": [
    {
     "data": {
      "image/png": "[encoded data removed]",
      "text/plain": [
       "<Figure size 432x288 with 1 Axes>"
      ]
     },
     "metadata": {
      "needs_background": "light"
     },
     "output_type": "display_data"
    }
   ],
   "source": [
    "female_mean_hist = plt.hist(female_mean.values)\n",
    "plt.grid()\n",
    "\n",
    "#save figure\n",
    "plt.gcf() # get current figure - helps with savefig\n",
    "plt.savefig('hist_percentage_toxicity_female.jpg')"
   ]
  },
  {
   "cell_type": "markdown",
   "metadata": {},
   "source": [
    "Finally, we apply a Statistical test to verify if the differences between the scores given by males and females is statistically significant. \n",
    "\n",
    "We use the Mannwithney test and our hypothesis is that females give more toxic scores than males. \n",
    "\n",
    "<b>H0: Females give fewer (or as many) toxic labels than Males</b>\n",
    "- Females <= Males\n",
    "\n",
    "<b>H1: Females give a greater amount of toxic labels than Males</b>\n",
    "- Females > Males"
   ]
  },
  {
   "cell_type": "code",
   "execution_count": 515,
   "metadata": {},
   "outputs": [
    {
     "data": {
      "text/plain": [
       "MannwhitneyuResult(statistic=1672116.5, pvalue=4.183220891362381e-12)"
      ]
     },
     "execution_count": 515,
     "metadata": {},
     "output_type": "execute_result"
    }
   ],
   "source": [
    "scipy.stats.mannwhitneyu( female_mean['toxicity'], male_mean['toxicity'], use_continuity=True, alternative='greater')"
   ]
  },
  {
   "cell_type": "markdown",
   "metadata": {},
   "source": [
    "We get a p-value that is smaller than 0.05, therefore we reject the null hypothesis that females give fewer (or as many) toxic labels than males. \n",
    "\n",
    "Therefore, <b>it seems that females might give toxic labels more often than males. </b>"
   ]
  },
  {
   "cell_type": "markdown",
   "metadata": {},
   "source": [
    "## Implications for Research"
   ]
  },
  {
   "cell_type": "markdown",
   "metadata": {},
   "source": [
    "#### What are some kinds of hostile speech that would be difficult to accurately detect using the approach used to train the Perspective API models? \n",
    "\n",
    "Based on our analysis, hostile speech directed towards females or non-binary people might be an issue. Most of the annotators were males and they seem to be less sensitive to toxic comments than non-male annotators. This might bias models into overlooking content that is offensive to the genders that were less represented in this dataset.\n",
    "\n",
    "Hostile speech with more English sophistication (or that requires English-centric cultural background to understand) might be harder to accurately detect due to the unbalace between native and non-native speakers annotators.  \n",
    "\n",
    "#### What are some potential unintended, negative consequences of using the Perspective API for any of these purposes? In your opinion, are these consequences likely or serious enough that you would recommend that the Perspective API not be used in these applications? Why or why not?\n",
    "\n",
    "A potential unintended negative consequence of using Perspective API might be exposing users only to toxic comments that are (more) offensive to females and non-binary people. Because most of the labelers are male and they seem to be less sensitive than other genders, I assume that models will perform better in text with offensive comments to males (thus removing/erasing them); which will lead to the internet mostly having offensive comments to non-males. \n",
    "\n",
    "I think it is still a useful tool, but people using the API should be aware that this bias might happen; this way people using it can prepare psychologically instead of having a skewed vision of the internet. \n",
    "\n",
    "#### Imagine you are one of the Google data scientists who maintains the Perspective API. If you wanted to improve the model or the API itself to make it work better for any of these purposes, how should they go about doing that?\n",
    "\n",
    "I would try to balance the dataset based on gender of annotators (either by getting more annotator of the less represented genders or giving them more weight in my model). I would also explore more the reason why there are differences in the way different genders score toxicity.\n",
    "\n",
    "I would also make sure to show a warning about the limitations of the model and provide a place for people to give feedback or input new toxic comments that were false negatives. \n"
   ]
  },
  {
   "cell_type": "code",
   "execution_count": null,
   "metadata": {},
   "outputs": [],
   "source": []
  }
 ],
 "metadata": {
  "kernelspec": {
   "display_name": "Python 3",
   "language": "python",
   "name": "python3"
  },
  "language_info": {
   "codemirror_mode": {
    "name": "ipython",
    "version": 3
   },
   "file_extension": ".py",
   "mimetype": "text/x-python",
   "name": "python",
   "nbconvert_exporter": "python",
   "pygments_lexer": "ipython3",
   "version": "3.7.6"
  }
 },
 "nbformat": 4,
 "nbformat_minor": 4
}
