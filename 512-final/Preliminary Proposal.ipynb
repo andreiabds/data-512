{
 "cells": [
  {
   "cell_type": "markdown",
   "metadata": {},
   "source": [
    "# An Analysis of Musical Theater Eras"
   ]
  },
  {
   "cell_type": "markdown",
   "metadata": {},
   "source": [
    "### Motivation and problem statement: \n",
    "\n",
    "I want to make an analysis about Musical Theather which is one of my passions. In a previous 2017 project, I created a Musical Theatre recommender.\n",
    "\n",
    "I am hoping to improve my data collection code with my new knowledge and build a better dataset to look at trends in the Musical Theater world. \n",
    "\n",
    "I believe I could use the Spotify API to get more music characteristics and Wikipedia has a lot of information that could be scraped. I am especially interested in seeing the popularity of types of shows over time (e.g., sung-through, rock musical, jukebox etc). Another idea is to see the general emotion of musicals over time by doing emotion analysis on the lyrics/book of the musical.\n",
    "\n",
    "\n",
    "### Data selected for analysis: \n",
    "- https://en.wikipedia.org/wiki/Lists_of_musicals \n",
    "- https://www.ibdb.com/ \n",
    "- https://www.allmusicals.com/\n",
    "- https://developer.spotify.com/ \n",
    "- https://github.com/andreiabds/orpheus (my GitHub with some old musical theatre data) \n",
    "\n",
    "I will mainly use music characterists from musical songs, lyrics, and other information from the musical (e.g., genre, composer, lyricist). \n",
    "\n",
    "One possible implication is the licensing with the lyrics, which I will have to look into. I'm hoping it's fine for non-commercial use. \n",
    "\n",
    "### Unknowns and dependencies: \n",
    "This might be a project that is too audatious as dealing with audio data is difficult. \n",
    "Furthermore, I need to connect many different datasets and I might not be able to find all the data I need. \n",
    "Another issue might be the difficulty in finding patterns. \n",
    "\n",
    "## Background/Related Work: \n",
    "\n",
    "[Musical Theatre](https://en.wikipedia.org/wiki/Musical_theatre) is an art form that originated in the late 1800's and has greatly evolved ever since. Starting out with showboat style shows, to plot-driven songs, to including rap music, musicals have changed to represent along with the times they were created. \n",
    "\n",
    "Usually, when discussing musicals, practicioners divide musical theather into three eras:\n",
    "\n",
    "- Classic Era (until 1940's)\n",
    "- Golden Era (1940's - 1960's)\n",
    "- Contemporary Era (1970's - today)\n",
    "\n",
    "Musicals from each era have very distinctive traits such as music style, plot, and how they integrate music to the plot. However, there is some disagreement about this division, with some creating [more segments of music periods](https://www.theatretrip.com/musical-theatre-time-periods/). \n",
    "\n",
    "\n",
    "## Research questions and/or hypotheses\n",
    "\n",
    "#### Research question: using a clustering algorithm, would the musicals be divide into 3 distinctive clusters according to the expected eras?\n",
    "\n",
    "Hypothesis: \n",
    "Each era has very distinctive music traits, and we expect to find 3 main distinctive clusters using music features and/or lyrics. \n",
    "\n",
    "\n",
    "#### Research question: What are the differences in the 3 main musical theater eras? \n",
    "\n",
    "Hypothesis: \n",
    "1. Contemporary musicals have longer songs, more speechiness, and are more plot driven than the previous eras. \n",
    "2. Classic Era has songs with slower tempo than the most recent eras. \n",
    "\n",
    "\n",
    "\n",
    "\n",
    "## Methodology: \n",
    "\n",
    "Research question # 1: \n",
    "For the first hypothesis, we will use a simple clustering algorithm (K-means) and we will use the years as threshold to identify how the division was made. We will use music features at first, then we will run the algorithm again with lyrics and emotional balance of the songs. \n",
    "\n",
    "We will also make an exploratory data analysis on the emerging clusters to understand what is forming those clusters. \n",
    "\n",
    "Research question # 2\n",
    "To test our hypothesis, we will separate our musicals into 3 different era clusters based on the year they premiered. \n",
    "Then, we will use a Mann–Whitney test on the music features of songs to understand if there are significant differences in the 3 different groups. \n",
    "I expect that our dataset will have imbalanced number of songs available in each group, thus making the Mann-Whitney test a good option for this test. "
   ]
  },
  {
   "cell_type": "code",
   "execution_count": null,
   "metadata": {},
   "outputs": [],
   "source": []
  }
 ],
 "metadata": {
  "kernelspec": {
   "display_name": "Python 3",
   "language": "python",
   "name": "python3"
  },
  "language_info": {
   "codemirror_mode": {
    "name": "ipython",
    "version": 3
   },
   "file_extension": ".py",
   "mimetype": "text/x-python",
   "name": "python",
   "nbconvert_exporter": "python",
   "pygments_lexer": "ipython3",
   "version": "3.7.6"
  }
 },
 "nbformat": 4,
 "nbformat_minor": 4
}
