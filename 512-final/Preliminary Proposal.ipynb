{
 "cells": [
  {
   "cell_type": "markdown",
   "metadata": {},
   "source": [
    "### Motivation and problem statement: \n",
    "\n",
    "I want to make an analysis about Musical Theather which is one of my passions. In a previous 2017 project, I created a Musical Theatre recommender.\n",
    "\n",
    "I am hoping to improve my data collection code with my new knowledge and build a better dataset to look at trends in the Musical Theater world. \n",
    "\n",
    "I believe I could use the Spotify API to get more music characteristics and Wikipedia has a lot of information that could be scraped. I am especially interested in seeing the popularity of types of shows over time (e.g., sung-through, rock musical, jukebox etc). Another idea is to see the general emotion of musicals over time by doing emotion analysis on the lyrics/book of the musical.\n",
    "\n",
    "\n",
    "### Data selected for analysis: \n",
    "- https://en.wikipedia.org/wiki/Lists_of_musicals \n",
    "- https://www.ibdb.com/ \n",
    "- https://www.allmusicals.com/\n",
    "- https://developer.spotify.com/ \n",
    "- https://github.com/andreiabds/orpheus (my GitHub with some old musical theatre data) \n",
    "\n",
    "I will mainly use music characterists from musical songs, lyrics, and other information from the musical (e.g., genre, composer, lyricist). \n",
    "\n",
    "One possible implication is the licensing with the lyrics, which I will have to look into. I'm hoping it's fine for non-commercial use. \n",
    "\n",
    "### Unknowns and dependencies: \n",
    "This might be a project that is too audatious as dealing with audio data is difficult. \n",
    "Furthermore, I need to connect many different datasets and I might not be able to find all the data I need. \n",
    "Another issue might be the difficulty in finding patterns. "
   ]
  },
  {
   "cell_type": "code",
   "execution_count": null,
   "metadata": {},
   "outputs": [],
   "source": []
  }
 ],
 "metadata": {
  "kernelspec": {
   "display_name": "Python 3",
   "language": "python",
   "name": "python3"
  },
  "language_info": {
   "codemirror_mode": {
    "name": "ipython",
    "version": 3
   },
   "file_extension": ".py",
   "mimetype": "text/x-python",
   "name": "python",
   "nbconvert_exporter": "python",
   "pygments_lexer": "ipython3",
   "version": "3.7.6"
  }
 },
 "nbformat": 4,
 "nbformat_minor": 4
}
